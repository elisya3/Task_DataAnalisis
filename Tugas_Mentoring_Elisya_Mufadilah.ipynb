{
  "nbformat": 4,
  "nbformat_minor": 0,
  "metadata": {
    "colab": {
      "provenance": []
    },
    "kernelspec": {
      "name": "python3",
      "display_name": "Python 3"
    },
    "language_info": {
      "name": "python"
    },
    "gpuClass": "standard"
  },
  "cells": [
    {
      "cell_type": "markdown",
      "source": [
        "#**Tugas kak Rahma**"
      ],
      "metadata": {
        "id": "vqhC1KnyKsYN"
      }
    },
    {
      "cell_type": "code",
      "source": [
        "odd=[x for x in range(1,50+1) if x %2!=0]\n",
        "squares=[x**2 for x in odd]\n",
        "total=sum(squares)\n",
        "ratarata=total/len(squares)\n",
        "maximum = max(squares)\n",
        "minimum = min(squares)\n",
        "print(odd)\n",
        "print(\"Total Nilai: \", total)\n",
        "print(\"Nilai rata-rata: \", ratarata)\n",
        "print(\"Nilai maksimum:\", maximum)\n",
        "print(\"Nilai minimum:\", minimum)"
      ],
      "metadata": {
        "colab": {
          "base_uri": "https://localhost:8080/"
        },
        "id": "kiYOrt1pKtiN",
        "outputId": "ffad046b-4b31-4a1a-cf69-9380398767d6"
      },
      "execution_count": null,
      "outputs": [
        {
          "output_type": "stream",
          "name": "stdout",
          "text": [
            "[1, 3, 5, 7, 9, 11, 13, 15, 17, 19, 21, 23, 25, 27, 29, 31, 33, 35, 37, 39, 41, 43, 45, 47, 49]\n",
            "Total Nilai:  20825\n",
            "Nilai rata-rata:  833.0\n",
            "Nilai maksimum: 2401\n",
            "Nilai minimum: 1\n"
          ]
        }
      ]
    },
    {
      "cell_type": "code",
      "source": [
        "a = int(input(\"Masukkan nilai a: \"))\n",
        "if a % 2 == 0: #% 2, untuk memeriksa apakah bilangan habis dibagi 2 atau bilangan genap\n",
        "    print(\"Bilangan genap\")\n",
        "else:\n",
        "    print(\"Bilangan ganjil\")\n"
      ],
      "metadata": {
        "colab": {
          "base_uri": "https://localhost:8080/"
        },
        "id": "oMiZmOEoncOi",
        "outputId": "633975e3-2afc-4f0b-aa62-4a4baeed057a"
      },
      "execution_count": null,
      "outputs": [
        {
          "output_type": "stream",
          "name": "stdout",
          "text": [
            "Masukkan nilai a: 8\n",
            "Bilangan genap\n"
          ]
        }
      ]
    },
    {
      "cell_type": "code",
      "source": [
        "year = int(input(\"Masukkan tahun: \"))\n",
        "if year % 4 == 0 and (year % 100 != 0 or year % 400 == 0):\n",
        "    print(\"Tahun tersebut adalah tahun kabisat.\")\n",
        "else:\n",
        "    print(\"Tahun tersebut bukan tahun kabisat.\")\n"
      ],
      "metadata": {
        "colab": {
          "base_uri": "https://localhost:8080/"
        },
        "id": "biztBtApY0Yg",
        "outputId": "731e0d2c-2283-4a4e-e1c3-6a8e105e1a81"
      },
      "execution_count": null,
      "outputs": [
        {
          "output_type": "stream",
          "name": "stdout",
          "text": [
            "Masukkan tahun: 2013\n",
            "Tahun tersebut bukan tahun kabisat.\n"
          ]
        }
      ]
    },
    {
      "cell_type": "code",
      "source": [
        "while True:\n",
        "    harga_produk = float(input(\"Masukkan harga produk Rp. 10.000 - 100.000: \"))\n",
        "    if harga_produk < 50000:\n",
        "        print(\"Produk tersebut termasuk kategori murah.\")\n",
        "    elif harga_produk >= 50000 and harga_produk < 100000:\n",
        "        print(\"Produk tersebut termasuk kategori sedang.\")\n",
        "    else:\n",
        "        print(\"Produk tersebut termasuk kategori mahal.\")\n",
        "        break"
      ],
      "metadata": {
        "colab": {
          "base_uri": "https://localhost:8080/"
        },
        "id": "ZygtwwrGZeND",
        "outputId": "c98520bf-f4d8-4091-f634-e3544999e8e8"
      },
      "execution_count": null,
      "outputs": [
        {
          "output_type": "stream",
          "name": "stdout",
          "text": [
            "Masukkan harga produk Rp. 10.000 - 100.000: 75000\n",
            "Produk tersebut termasuk kategori sedang.\n",
            "Masukkan harga produk Rp. 10.000 - 100.000: 100000\n",
            "Produk tersebut termasuk kategori mahal.\n"
          ]
        }
      ]
    },
    {
      "cell_type": "code",
      "source": [
        "password = input(\"Masukkan password: \")\n",
        "panjang = len(password) >= 8\n",
        "angka = any(char.isdigit() for char in password) #char.isdigit() untuk memeriksa sebuah karakter adalah angka atau bukan\n",
        "huruf_kecil = any(char.islower() for char in password) #char.islower memeriksa huruf kecil\n",
        "huruf_besar = any(char.isupper() for char in password) #char.islower memeriksa huruf besar\n",
        "if panjang!=True:\n",
        "    print(\"terlalu pendek\")\n",
        "elif c8!=True:\n",
        "    print(\"harus mengandung 8\")\n",
        "elif cx!=True:\n",
        "    print(\"harus mengandng X\")\n",
        "elif char!=True:\n",
        "    print(\"harus mengandng @\")\n",
        "else:\n",
        "    print(\"password valid\")"
      ],
      "metadata": {
        "colab": {
          "base_uri": "https://localhost:8080/"
        },
        "id": "cj24khymFFdK",
        "outputId": "ec3b3c81-808d-4c14-8d33-f803737b23fb"
      },
      "execution_count": null,
      "outputs": [
        {
          "output_type": "stream",
          "name": "stdout",
          "text": [
            "Masukkan password: 123\n",
            "terlalu pendek\n"
          ]
        }
      ]
    },
    {
      "cell_type": "code",
      "source": [
        "while True:\n",
        "    password = input(\"Masukkan password: \")\n",
        "    panjang = len(password) >= 8\n",
        "    angka = any(char.isdigit() for char in password)\n",
        "    huruf_kecil = any(char.islower() for char in password)\n",
        "    huruf_besar = any(char.isupper() for char in password)\n",
        "\n",
        "    if not panjang:\n",
        "        print(\"Password terlalu pendek. Minimal 8 karakter.\")\n",
        "    elif not angka:\n",
        "        print(\"Password harus mengandung setidaknya satu angka.\")\n",
        "    elif not huruf_kecil:\n",
        "        print(\"Password harus mengandung setidaknya satu huruf kecil.\")\n",
        "    elif not huruf_besar:\n",
        "        print(\"Password harus mengandung setidaknya satu huruf besar.\")\n",
        "    else:\n",
        "        print(\"Password valid.\")\n",
        "        break\n"
      ],
      "metadata": {
        "colab": {
          "base_uri": "https://localhost:8080/"
        },
        "id": "QblCL-hibznD",
        "outputId": "99e13d35-485f-4811-c49f-185ad359df9b"
      },
      "execution_count": null,
      "outputs": [
        {
          "output_type": "stream",
          "name": "stdout",
          "text": [
            "Masukkan password: hsbfhvfh\n",
            "Password harus mengandung setidaknya satu angka.\n",
            "Masukkan password: 123elisya\n",
            "Password harus mengandung setidaknya satu huruf besar.\n",
            "Masukkan password: 123Elisya\n",
            "Password valid.\n"
          ]
        }
      ]
    },
    {
      "cell_type": "code",
      "source": [
        "count=0\n",
        "contoh_list=['acc', 'xyz', 'aba', '1321']\n",
        "for i in range(len(contoh_list)):\n",
        "    if(contoh_list[i][0] == contoh_list[i][-1]): \n",
        "        #jika karakter pertama dari elemen ke-i dalam sama dengan karakter terakhir pada \"contoh_list\"?\n",
        "        count += 1\n",
        "print('jumlah string yg sama di karakter pertama dan terakhir=',count)"
      ],
      "metadata": {
        "colab": {
          "base_uri": "https://localhost:8080/"
        },
        "id": "LOs66iMXqnR0",
        "outputId": "60aa3235-a5a8-4a31-ec07-6d2125c4728f"
      },
      "execution_count": null,
      "outputs": [
        {
          "output_type": "stream",
          "name": "stdout",
          "text": [
            "jumlah string yg sama di karakter pertama dan terakhir= 2\n"
          ]
        }
      ]
    },
    {
      "cell_type": "code",
      "source": [
        "while True:\n",
        "    kata=input(\"masukan kata palidrom= \")\n",
        "    if kata == kata[::-1]:\n",
        "        print(\"string merupakan palidrom\")\n",
        "        break\n",
        "    else:\n",
        "        print(\"string bukan palidrom\")"
      ],
      "metadata": {
        "colab": {
          "base_uri": "https://localhost:8080/"
        },
        "id": "KIAz0YraGEJe",
        "outputId": "f2c4c292-7b76-42e3-940f-1a5fa763f2be"
      },
      "execution_count": null,
      "outputs": [
        {
          "output_type": "stream",
          "name": "stdout",
          "text": [
            "masukan kata palidrom= ada\n",
            "string merupakan palidrom\n"
          ]
        }
      ]
    },
    {
      "cell_type": "code",
      "source": [
        "count = 0\n",
        "while True:\n",
        "    kata = input(\"Masukkan kata palindrom: \")\n",
        "    count += len(kata) #untuk menghitung jumlah karakter\n",
        "    if kata == kata[::-1]:\n",
        "        print(\"String merupakan palindrom\")\n",
        "        break\n",
        "    else:\n",
        "        print(\"String bukan palindrom\")\n",
        "print(\"Jumlah karakter :\", count)\n"
      ],
      "metadata": {
        "colab": {
          "base_uri": "https://localhost:8080/"
        },
        "id": "MLVbA5ackGls",
        "outputId": "f691ae5e-80e1-4c35-da66-48df8a1830c0"
      },
      "execution_count": null,
      "outputs": [
        {
          "output_type": "stream",
          "name": "stdout",
          "text": [
            "Masukkan kata palindrom: ada\n",
            "String merupakan palindrom\n",
            "Jumlah karakter : 3\n"
          ]
        }
      ]
    },
    {
      "cell_type": "code",
      "source": [
        "def hitung():\n",
        "    s= input(\"Masukkan string: \")\n",
        "    d={'upper':0,'lower':0}\n",
        "    for x in s:\n",
        "        if x.isupper():\n",
        "            d['upper']+=1\n",
        "        elif x.islower():\n",
        "            d['lower']+=1\n",
        "    print('string kalimat:', s)\n",
        "    print('jumlah huruf kapital:',d['upper'])\n",
        "    print('jumlah huruf kecil',d['lower'])\n",
        "\n",
        "hitung_angka()"
      ],
      "metadata": {
        "id": "79-V6Hg-GzsE",
        "outputId": "fb0e2dfb-7870-4e72-a8b0-22c43f697433",
        "colab": {
          "base_uri": "https://localhost:8080/"
        }
      },
      "execution_count": null,
      "outputs": [
        {
          "output_type": "stream",
          "name": "stdout",
          "text": [
            "Masukkan string: hvdschjsd\n",
            "String: hvdschjsd\n",
            "Jumlah angka genap: 0\n",
            "Jumlah angka ganjil: 0\n"
          ]
        }
      ]
    },
    {
      "cell_type": "code",
      "source": [
        "#Kata ganjil\n",
        "list1 = input(\"Masukkan elemen list (beri spasi): \").split()\n",
        "print(\"Elemen ganjil:\", end=\" \")\n",
        "for i in list1:\n",
        "    if len(i)%2==1:\n",
        "        print(i, end=\" \")"
      ],
      "metadata": {
        "colab": {
          "base_uri": "https://localhost:8080/"
        },
        "id": "CrkyyQgmGFJR",
        "outputId": "ab0db1a1-9173-41fb-a049-c36e8679e4e8"
      },
      "execution_count": null,
      "outputs": [
        {
          "output_type": "stream",
          "name": "stdout",
          "text": [
            "Masukkan elemen list (beri spasi): hitam putih\n",
            "Elemen ganjil: hitam putih "
          ]
        }
      ]
    },
    {
      "cell_type": "code",
      "source": [
        "#kata genap\n",
        "list1=[\"ada\",\"sapa\",\"warga\",\"kanopi\",\"layang\",\"tamu\"]\n",
        "for i in list1:\n",
        "    if len(i)%2==0: #memeriksa bilangan genap\n",
        "        print(i,end=\" \")"
      ],
      "metadata": {
        "colab": {
          "base_uri": "https://localhost:8080/"
        },
        "id": "EolCEUTjsQSH",
        "outputId": "d61492b1-6e00-43d3-fae0-cdc5e6354bbf"
      },
      "execution_count": null,
      "outputs": [
        {
          "output_type": "stream",
          "name": "stdout",
          "text": [
            "sapa kanopi layang tamu "
          ]
        }
      ]
    },
    {
      "cell_type": "code",
      "source": [
        "#Kata genap\n",
        "list1 = input(\"Masukkan elemen list (beri spasi): \").split()\n",
        "print(\"Elemen genap:\", end=\" \")\n",
        "for i in list1:\n",
        "    if len(i)%2==0: #memeriksa bilangan ganjil\n",
        "        print(i, end=\" \")"
      ],
      "metadata": {
        "colab": {
          "base_uri": "https://localhost:8080/"
        },
        "id": "R6LLVmKDIkMo",
        "outputId": "7749ba83-7113-4cd0-8f08-5e8b2ec2a3cb"
      },
      "execution_count": null,
      "outputs": [
        {
          "output_type": "stream",
          "name": "stdout",
          "text": [
            "Masukkan elemen list (beri spasi): nana saya minum\n",
            "Elemen genap: nana saya "
          ]
        }
      ]
    }
  ]
}